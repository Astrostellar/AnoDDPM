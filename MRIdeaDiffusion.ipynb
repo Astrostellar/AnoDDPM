{
 "nbformat": 4,
 "nbformat_minor": 0,
 "metadata": {
  "accelerator": "GPU",
  "colab": {
   "name": "MRIdeaDiffusion.ipynb",
   "provenance": [],
   "collapsed_sections": []
  },
  "kernelspec": {
   "name": "python3",
   "language": "python",
   "display_name": "Python 3"
  },
  "language_info": {
   "name": "python"
  },
  "widgets": {
   "application/vnd.jupyter.widget-state+json": {
    "3c2354bf9fa7421981451ffc87a01571": {
     "model_module": "@jupyter-widgets/controls",
     "model_name": "HBoxModel",
     "model_module_version": "1.5.0",
     "state": {
      "_view_name": "HBoxView",
      "_dom_classes": [],
      "_model_name": "HBoxModel",
      "_view_module": "@jupyter-widgets/controls",
      "_model_module_version": "1.5.0",
      "_view_count": null,
      "_view_module_version": "1.5.0",
      "box_style": "",
      "layout": "IPY_MODEL_9972796fb23341b2a4928488f049c272",
      "_model_module": "@jupyter-widgets/controls",
      "children": [
       "IPY_MODEL_15b1697c72ff4d48b03cf57e9629bf69",
       "IPY_MODEL_7fec3239d50044b5b761651ca22cf40f",
       "IPY_MODEL_5bea6111eff5454999eb841fa964a0fc"
      ]
     }
    },
    "9972796fb23341b2a4928488f049c272": {
     "model_module": "@jupyter-widgets/base",
     "model_name": "LayoutModel",
     "model_module_version": "1.2.0",
     "state": {
      "_view_name": "LayoutView",
      "grid_template_rows": null,
      "right": null,
      "justify_content": null,
      "_view_module": "@jupyter-widgets/base",
      "overflow": null,
      "_model_module_version": "1.2.0",
      "_view_count": null,
      "flex_flow": null,
      "width": null,
      "min_width": null,
      "border": null,
      "align_items": null,
      "bottom": null,
      "_model_module": "@jupyter-widgets/base",
      "top": null,
      "grid_column": null,
      "overflow_y": null,
      "overflow_x": null,
      "grid_auto_flow": null,
      "grid_area": null,
      "grid_template_columns": null,
      "flex": null,
      "_model_name": "LayoutModel",
      "justify_items": null,
      "grid_row": null,
      "max_height": null,
      "align_content": null,
      "visibility": null,
      "align_self": null,
      "height": null,
      "min_height": null,
      "padding": null,
      "grid_auto_rows": null,
      "grid_gap": null,
      "max_width": null,
      "order": null,
      "_view_module_version": "1.2.0",
      "grid_template_areas": null,
      "object_position": null,
      "object_fit": null,
      "grid_auto_columns": null,
      "margin": null,
      "display": null,
      "left": null
     }
    },
    "15b1697c72ff4d48b03cf57e9629bf69": {
     "model_module": "@jupyter-widgets/controls",
     "model_name": "HTMLModel",
     "model_module_version": "1.5.0",
     "state": {
      "_view_name": "HTMLView",
      "style": "IPY_MODEL_0a1d5bc2bac64b62b0ed3484da69439e",
      "_dom_classes": [],
      "description": "",
      "_model_name": "HTMLModel",
      "placeholder": "​",
      "_view_module": "@jupyter-widgets/controls",
      "_model_module_version": "1.5.0",
      "value": "100%",
      "_view_count": null,
      "_view_module_version": "1.5.0",
      "description_tooltip": null,
      "_model_module": "@jupyter-widgets/controls",
      "layout": "IPY_MODEL_59c235ef19d54f05b37e220980cbe9f0"
     }
    },
    "7fec3239d50044b5b761651ca22cf40f": {
     "model_module": "@jupyter-widgets/controls",
     "model_name": "FloatProgressModel",
     "model_module_version": "1.5.0",
     "state": {
      "_view_name": "ProgressView",
      "style": "IPY_MODEL_9d9f07bf5f384c84be2ab3e5d6d23f92",
      "_dom_classes": [],
      "description": "",
      "_model_name": "FloatProgressModel",
      "bar_style": "success",
      "max": 3,
      "_view_module": "@jupyter-widgets/controls",
      "_model_module_version": "1.5.0",
      "value": 3,
      "_view_count": null,
      "_view_module_version": "1.5.0",
      "orientation": "horizontal",
      "min": 0,
      "description_tooltip": null,
      "_model_module": "@jupyter-widgets/controls",
      "layout": "IPY_MODEL_7c3c873bd6664f69a945f2568058daa1"
     }
    },
    "5bea6111eff5454999eb841fa964a0fc": {
     "model_module": "@jupyter-widgets/controls",
     "model_name": "HTMLModel",
     "model_module_version": "1.5.0",
     "state": {
      "_view_name": "HTMLView",
      "style": "IPY_MODEL_1a22c2726cbd480cadb20c43a4d64739",
      "_dom_classes": [],
      "description": "",
      "_model_name": "HTMLModel",
      "placeholder": "​",
      "_view_module": "@jupyter-widgets/controls",
      "_model_module_version": "1.5.0",
      "value": " 3/3 [11:44&lt;00:00, 166.70s/it, imgs trained=300, loss=tensor(0.1714, device=&#x27;cuda:0&#x27;)]",
      "_view_count": null,
      "_view_module_version": "1.5.0",
      "description_tooltip": null,
      "_model_module": "@jupyter-widgets/controls",
      "layout": "IPY_MODEL_80d2829712bb44c3a8a095af45f53cb5"
     }
    },
    "0a1d5bc2bac64b62b0ed3484da69439e": {
     "model_module": "@jupyter-widgets/controls",
     "model_name": "DescriptionStyleModel",
     "model_module_version": "1.5.0",
     "state": {
      "_view_name": "StyleView",
      "_model_name": "DescriptionStyleModel",
      "description_width": "",
      "_view_module": "@jupyter-widgets/base",
      "_model_module_version": "1.5.0",
      "_view_count": null,
      "_view_module_version": "1.2.0",
      "_model_module": "@jupyter-widgets/controls"
     }
    },
    "59c235ef19d54f05b37e220980cbe9f0": {
     "model_module": "@jupyter-widgets/base",
     "model_name": "LayoutModel",
     "model_module_version": "1.2.0",
     "state": {
      "_view_name": "LayoutView",
      "grid_template_rows": null,
      "right": null,
      "justify_content": null,
      "_view_module": "@jupyter-widgets/base",
      "overflow": null,
      "_model_module_version": "1.2.0",
      "_view_count": null,
      "flex_flow": null,
      "width": null,
      "min_width": null,
      "border": null,
      "align_items": null,
      "bottom": null,
      "_model_module": "@jupyter-widgets/base",
      "top": null,
      "grid_column": null,
      "overflow_y": null,
      "overflow_x": null,
      "grid_auto_flow": null,
      "grid_area": null,
      "grid_template_columns": null,
      "flex": null,
      "_model_name": "LayoutModel",
      "justify_items": null,
      "grid_row": null,
      "max_height": null,
      "align_content": null,
      "visibility": null,
      "align_self": null,
      "height": null,
      "min_height": null,
      "padding": null,
      "grid_auto_rows": null,
      "grid_gap": null,
      "max_width": null,
      "order": null,
      "_view_module_version": "1.2.0",
      "grid_template_areas": null,
      "object_position": null,
      "object_fit": null,
      "grid_auto_columns": null,
      "margin": null,
      "display": null,
      "left": null
     }
    },
    "9d9f07bf5f384c84be2ab3e5d6d23f92": {
     "model_module": "@jupyter-widgets/controls",
     "model_name": "ProgressStyleModel",
     "model_module_version": "1.5.0",
     "state": {
      "_view_name": "StyleView",
      "_model_name": "ProgressStyleModel",
      "description_width": "",
      "_view_module": "@jupyter-widgets/base",
      "_model_module_version": "1.5.0",
      "_view_count": null,
      "_view_module_version": "1.2.0",
      "bar_color": null,
      "_model_module": "@jupyter-widgets/controls"
     }
    },
    "7c3c873bd6664f69a945f2568058daa1": {
     "model_module": "@jupyter-widgets/base",
     "model_name": "LayoutModel",
     "model_module_version": "1.2.0",
     "state": {
      "_view_name": "LayoutView",
      "grid_template_rows": null,
      "right": null,
      "justify_content": null,
      "_view_module": "@jupyter-widgets/base",
      "overflow": null,
      "_model_module_version": "1.2.0",
      "_view_count": null,
      "flex_flow": null,
      "width": null,
      "min_width": null,
      "border": null,
      "align_items": null,
      "bottom": null,
      "_model_module": "@jupyter-widgets/base",
      "top": null,
      "grid_column": null,
      "overflow_y": null,
      "overflow_x": null,
      "grid_auto_flow": null,
      "grid_area": null,
      "grid_template_columns": null,
      "flex": null,
      "_model_name": "LayoutModel",
      "justify_items": null,
      "grid_row": null,
      "max_height": null,
      "align_content": null,
      "visibility": null,
      "align_self": null,
      "height": null,
      "min_height": null,
      "padding": null,
      "grid_auto_rows": null,
      "grid_gap": null,
      "max_width": null,
      "order": null,
      "_view_module_version": "1.2.0",
      "grid_template_areas": null,
      "object_position": null,
      "object_fit": null,
      "grid_auto_columns": null,
      "margin": null,
      "display": null,
      "left": null
     }
    },
    "1a22c2726cbd480cadb20c43a4d64739": {
     "model_module": "@jupyter-widgets/controls",
     "model_name": "DescriptionStyleModel",
     "model_module_version": "1.5.0",
     "state": {
      "_view_name": "StyleView",
      "_model_name": "DescriptionStyleModel",
      "description_width": "",
      "_view_module": "@jupyter-widgets/base",
      "_model_module_version": "1.5.0",
      "_view_count": null,
      "_view_module_version": "1.2.0",
      "_model_module": "@jupyter-widgets/controls"
     }
    },
    "80d2829712bb44c3a8a095af45f53cb5": {
     "model_module": "@jupyter-widgets/base",
     "model_name": "LayoutModel",
     "model_module_version": "1.2.0",
     "state": {
      "_view_name": "LayoutView",
      "grid_template_rows": null,
      "right": null,
      "justify_content": null,
      "_view_module": "@jupyter-widgets/base",
      "overflow": null,
      "_model_module_version": "1.2.0",
      "_view_count": null,
      "flex_flow": null,
      "width": null,
      "min_width": null,
      "border": null,
      "align_items": null,
      "bottom": null,
      "_model_module": "@jupyter-widgets/base",
      "top": null,
      "grid_column": null,
      "overflow_y": null,
      "overflow_x": null,
      "grid_auto_flow": null,
      "grid_area": null,
      "grid_template_columns": null,
      "flex": null,
      "_model_name": "LayoutModel",
      "justify_items": null,
      "grid_row": null,
      "max_height": null,
      "align_content": null,
      "visibility": null,
      "align_self": null,
      "height": null,
      "min_height": null,
      "padding": null,
      "grid_auto_rows": null,
      "grid_gap": null,
      "max_width": null,
      "order": null,
      "_view_module_version": "1.2.0",
      "grid_template_areas": null,
      "object_position": null,
      "object_fit": null,
      "grid_auto_columns": null,
      "margin": null,
      "display": null,
      "left": null
     }
    }
   }
  }
 },
 "cells": [
  {
   "cell_type": "code",
   "metadata": {
    "id": "mW4z-YhVdZNL",
    "pycharm": {
     "is_executing": true
    }
   },
   "source": [
    "%load_ext autoreload\n",
    "%autoreload 2\n",
    "\n",
    "import torch.optim as optim\n",
    "import torch\n",
    "from torch import nn\n",
    "import torch.nn.functional as F\n",
    "from torch.utils.data import Dataset\n",
    "import torchvision.transforms as transforms\n",
    "import torchvision.utils\n",
    "import nibabel as nib\n",
    "import matplotlib.pyplot as plt\n",
    "import matplotlib.animation as animation\n",
    "import numpy as np\n",
    "import os\n",
    "import tqdm\n",
    "from random import seed\n",
    "from random import randint\n",
    "from models import *"
   ],
   "execution_count": null,
   "outputs": []
  },
  {
   "cell_type": "code",
   "metadata": {
    "colab": {
     "base_uri": "https://localhost:8080/"
    },
    "id": "ya6ErLm_eqq2",
    "outputId": "befb748e-ba57-4350-f717-898d796a61d3",
    "pycharm": {
     "is_executing": true
    }
   },
   "source": [
    "# from google.colab import drive\n",
    "# drive.mount('/content/drive')\n",
    "# root_dir = \"/content/drive/MyDrive/dissertation data/\"\n",
    "root_dir = \"./\""
   ],
   "execution_count": null,
   "outputs": []
  },
  {
   "cell_type": "code",
   "metadata": {
    "id": "l8Lql1QmtTLK",
    "pycharm": {
     "is_executing": true
    }
   },
   "source": [
    "import warnings\n",
    "warnings.filterwarnings(\"ignore\")\n",
    "import logging\n",
    "logging.getLogger('matplotlib').setLevel(level=logging.CRITICAL)"
   ],
   "execution_count": null,
   "outputs": []
  },
  {
   "cell_type": "code",
   "metadata": {
    "colab": {
     "base_uri": "https://localhost:8080/"
    },
    "id": "xZ5t3dxJficZ",
    "outputId": "99782a09-dbb8-4710-ba3d-c8e09cefccc1",
    "pycharm": {
     "is_executing": true
    }
   },
   "source": [
    "EPOCHS=3\n",
    "Batch_Size=25\n",
    "lr=1e-4\n",
    "beta1=0.5\n",
    "device = torch.device(\"cuda\" if torch.cuda.is_available() else \"cpu\")\n",
    "seed(1)\n",
    "print(device)\n",
    "\n"
   ],
   "execution_count": null,
   "outputs": []
  },
  {
   "cell_type": "code",
   "metadata": {
    "id": "ITVoEA_pKwIn",
    "pycharm": {
     "is_executing": true
    }
   },
   "source": [
    "# helper function to make getting another batch of data easier\n",
    "def cycle(iterable):\n",
    "    while True:\n",
    "        for x in iterable:\n",
    "            yield x"
   ],
   "execution_count": null,
   "outputs": []
  },
  {
   "cell_type": "code",
   "metadata": {
    "id": "66M-le4w8QgI",
    "pycharm": {
     "is_executing": true
    }
   },
   "source": [
    "img_size = (64,64)\n",
    "transform = transforms.Compose([transforms.ToPILImage(),\n",
    "                                transforms.CenterCrop(128),\n",
    "                                transforms.Resize(img_size,transforms.InterpolationMode.BILINEAR),\n",
    "                                # transforms.CenterCrop(256),\n",
    "                                transforms.ToTensor(),\n",
    "                                transforms.Normalize((0.5), (0.5))\n",
    "                                ])\n",
    "class MRIDataset(Dataset):\n",
    "    \"\"\"MRI dataset.\"\"\"\n",
    "\n",
    "    def __init__(self, root_dir, transform=None):\n",
    "        \"\"\"\n",
    "        Args:\n",
    "            root_dir (string): Directory with all the images.\n",
    "            transform (callable, optional): Optional transform to be applied\n",
    "                on a sample.\n",
    "        \"\"\"\n",
    "        self.filenames = os.listdir(root_dir)\n",
    "        if \".DS_Store\" in self.filenames:\n",
    "            self.filenames.remove(\".DS_Store\")\n",
    "        self.root_dir = root_dir\n",
    "        self.transform = transform\n",
    "\n",
    "    def __len__(self):\n",
    "        return len(self.filenames)\n",
    "\n",
    "    def __getitem__(self, idx):\n",
    "        if torch.is_tensor(idx):\n",
    "            idx = idx.tolist()\n",
    "\n",
    "        img_name = os.path.join(self.root_dir,self.filenames[idx],f\"sub-{self.filenames[idx]}_ses-NFB3_T1w.nii.gz\")\n",
    "        # random between 40 and 130\n",
    "        # print(nib.load(img_name).slicer[:,90:91,:].dataobj.shape)\n",
    "        sliceIdx = randint(40, 130)\n",
    "        # sliceIdx = 90 \n",
    "        image = nib.load(img_name).slicer[:,sliceIdx:sliceIdx+1,:].dataobj.reshape(256,192).astype(np.float32)/255\n",
    "        # image = nib.load(img_name).slicer[:,:,:].dataobj.reshape(256,256,192)\n",
    "        # image = (255*(image - np.min(image))/np.ptp(image)).astype(np.uint8)\n",
    "        # image = image[:,sliceIdx:sliceIdx+1,:].reshape(256,192)\n",
    "        # print(np.max(image, dim=list(range(1,len(image.shape))))\n",
    "        if self.transform:\n",
    "            image = self.transform(image)\n",
    "        \n",
    "        sample = {'image': image,\"filenames\":self.filenames[idx]}\n",
    "        return sample"
   ],
   "execution_count": null,
   "outputs": []
  },
  {
   "cell_type": "code",
   "metadata": {
    "colab": {
     "base_uri": "https://localhost:8080/",
     "height": 316
    },
    "id": "m_FgtD7MK-Hk",
    "outputId": "e2a45a0d-c537-4161-b72f-98e44d7844a3",
    "pycharm": {
     "is_executing": true
    }
   },
   "source": [
    "training_dataset = MRIDataset(root_dir=f'{root_dir}Train/',transform=transform)\n",
    "testing_dataset = MRIDataset(root_dir=f'{root_dir}Test/',transform=transform)\n",
    "# testing_dataset = MRIDataset(root_dir='/content/drive/MyDrive/dissertation data/Anomalous/',transform=transform)\n",
    "dataset_loader = cycle(torch.utils.data.DataLoader(training_dataset,\n",
    "                                             batch_size=Batch_Size, shuffle=True,\n",
    "                                             num_workers=2))\n",
    "                                            # num_workers=1))\n",
    "new = next(dataset_loader)\n",
    "\n",
    "# new[\"image\"] = torch.cat((new[\"image\"][:],new[\"image\"][:],new[\"image\"][:]),dim=1)\n",
    "print(new[\"image\"].shape)\n",
    "plt.rcParams['figure.dpi'] = 100\n",
    "plt.grid(False)\n",
    "plt.imshow(torchvision.utils.make_grid(new[\"image\"] / 2. + 0.5).cpu().data.permute(0, 2, 1).contiguous().permute(2, 1, 0),\n",
    "            cmap='gray')\n",
    "plt.show()\n",
    "plt.pause(0.0001)\n"
   ],
   "execution_count": null,
   "outputs": []
  },
  {
   "cell_type": "code",
   "metadata": {
    "id": "KbthhfkAfuN5",
    "pycharm": {
     "is_executing": true
    }
   },
   "source": [
    "# try:\n",
    "#     os.makedirs(\"result/train/cropped\")\n",
    "#     os.makedirs(\"result/train/real\")\n",
    "#     os.makedirs(\"result/train/recon\")\n",
    "#     os.makedirs(\"model\")\n",
    "# except OSError:\n",
    "#     pass\n",
    "    "
   ],
   "execution_count": null,
   "outputs": []
  },
  {
   "cell_type": "code",
   "metadata": {
    "id": "-tdb8S_ChNHB",
    "pycharm": {
     "is_executing": true
    }
   },
   "source": [
    "# custom weights initialization called on netG and netD\n",
    "def weights_init(m):\n",
    "    classname = m.__class__.__name__\n",
    "    if classname.find('Conv') != -1:\n",
    "        m.weight.data.normal_(0.0, 0.02)\n",
    "    elif classname.find('BatchNorm') != -1:\n",
    "        m.weight.data.normal_(1.0, 0.02)\n",
    "        m.bias.data.fill_(0)\n"
   ],
   "execution_count": null,
   "outputs": []
  },
  {
   "cell_type": "code",
   "metadata": {
    "id": "h50VjEB5hkY1",
    "pycharm": {
     "is_executing": true
    }
   },
   "source": [
    "        # base_channels,\n",
    "        # channel_mults=(1,2,4,8),\n",
    "        # res_block_layer_count=2,\n",
    "        # activation=F.relu,\n",
    "        # dropout=0.1,\n",
    "        # attention_resolutions=(None,32,16,8),\n",
    "        # num_groups=32\n",
    "unet = UNet(128,channel_mults=(1,2,3,4),dropout=0.1,attention_resolutions=(None,32,16,8))\n",
    "unet.apply(weights_init)\n",
    "\n",
    "betas = get_beta_schedule(1000,\"cosine\")\n",
    "\n",
    "diffusion = GaussianDiffusion(unet.to(device),img_size,betas)\n",
    "diffusion.apply(weights_init)\n",
    "\n",
    "# diffusion.load_state_dict(torch.load(f'{root_dir}diff-params-24-11-100epochs',map_location=device))\n",
    "\n",
    "diffusion = diffusion.to(device)\n",
    "\n",
    "\n",
    "\n",
    "optimiser = optim.Adam(diffusion.parameters(), lr=lr, betas=(beta1, 0.999))\n"
   ],
   "execution_count": null,
   "outputs": []
  },
  {
   "cell_type": "code",
   "metadata": {
    "colab": {
     "base_uri": "https://localhost:8080/",
     "height": 297,
     "referenced_widgets": [
      "3c2354bf9fa7421981451ffc87a01571",
      "9972796fb23341b2a4928488f049c272",
      "15b1697c72ff4d48b03cf57e9629bf69",
      "7fec3239d50044b5b761651ca22cf40f",
      "5bea6111eff5454999eb841fa964a0fc",
      "0a1d5bc2bac64b62b0ed3484da69439e",
      "59c235ef19d54f05b37e220980cbe9f0",
      "9d9f07bf5f384c84be2ab3e5d6d23f92",
      "7c3c873bd6664f69a945f2568058daa1",
      "1a22c2726cbd480cadb20c43a4d64739",
      "80d2829712bb44c3a8a095af45f53cb5"
     ]
    },
    "id": "NK9JgcGeKqN3",
    "outputId": "a6ae0cf5-98fb-4c77-a503-4dcfaf57da6b",
    "pycharm": {
     "is_executing": true
    }
   },
   "source": [
    "\n",
    "tqdm_epoch = tqdm.notebook.trange(EPOCHS)\n",
    "  # dataset loop\n",
    "for epoch in tqdm_epoch:\n",
    "  \n",
    "  for i in range(100//Batch_Size):\n",
    "    data = next(dataset_loader)\n",
    "    x = data[\"image\"]\n",
    "    x = x.to(device)\n",
    "    loss,noisy,est = diffusion(x)\n",
    "\n",
    "    optimiser.zero_grad()\n",
    "    loss.backward()\n",
    "    optimiser.step()\n",
    "\n",
    "\n",
    "    tqdm_epoch.set_postfix({\"imgs trained\":(1+i)*Batch_Size+epoch*100,\"loss\":loss.data})\n",
    "    if epoch%5==0 and i==0:\n",
    "      rowSize=8\n",
    "      if epoch%20==0:\n",
    "        sample = diffusion.forward_backward(x,0.2,False)\n",
    "        out = torch.cat((x[:rowSize,...].cpu(),sample[:rowSize,...]))\n",
    "      else:\n",
    "        out = torch.cat((x[:rowSize,...].cpu(),noisy[:rowSize,...].cpu(),est[:rowSize,...].cpu()))\n",
    "\n",
    "      plt.rcParams['figure.dpi'] = 150\n",
    "      plt.grid(False)\n",
    "      plt.imshow(torchvision.utils.make_grid(out / 2. + 0.5,nrow=rowSize).cpu().data.permute(0, 2, 1).contiguous().permute(2, 1, 0),\n",
    "                  cmap='gray')\n",
    "\n",
    "      plt.show()\n",
    "      plt.pause(0.0001)\n"
   ],
   "execution_count": null,
   "outputs": []
  },
  {
   "cell_type": "code",
   "metadata": {
    "id": "6oMWU4RTsyBv",
    "colab": {
     "base_uri": "https://localhost:8080/",
     "height": 1000
    },
    "outputId": "7e9b1d2c-6dbc-4aa5-95aa-6547ab1eab38",
    "pycharm": {
     "is_executing": true
    }
   },
   "source": [
    "testing_dataset_loader = cycle(torch.utils.data.DataLoader(testing_dataset,\n",
    "                                             batch_size=Batch_Size, shuffle=True,\n",
    "                                             num_workers=2))\n",
    "plt.rcParams['figure.dpi'] = 200\n",
    "for i in range(3):\n",
    "  data = next(dataset_loader)\n",
    "  x = data[\"image\"]\n",
    "  x = x.to(device)\n",
    "  rowSize=5\n",
    "  fig,ax = plt.subplots()\n",
    "  out = diffusion.forward_backward(x,0.125,True)\n",
    "  imgs = [[ax.imshow(torchvision.utils.make_grid(x / 2. + 0.5,nrow=rowSize).cpu().data.permute(0, 2, 1).contiguous().permute(2, 1, 0),animated=True)] for x in out]\n",
    "  # out = out.permute(0,2,3,1)\n",
    "  ani = animation.ArtistAnimation(fig, imgs, interval=50, blit=True,\n",
    "                                repeat_delay=1000)\n",
    "\n",
    "  ani.save(f'/content/drive/MyDrive/dissertation data/dynamic_images{i}.mp4')\n",
    "  print(\"saved\")\n",
    "  plt.grid(False)\n",
    "  plt.imshow(torchvision.utils.make_grid(out[-1] / 2. + 0.5,nrow=rowSize).cpu().data.permute(0, 2, 1).contiguous().permute(2, 1, 0),\n",
    "             cmap='gray')\n",
    "\n",
    "  plt.show()\n",
    "  plt.pause(0.0001)\n",
    "  "
   ],
   "execution_count": null,
   "outputs": []
  },
  {
   "cell_type": "code",
   "metadata": {
    "id": "rAo29WCJyWDj",
    "pycharm": {
     "is_executing": true
    }
   },
   "source": [
    "# torch.save(diffusion.state_dict(),f'/content/drive/MyDrive/dissertation data/diff-params-24-11-100epochs')"
   ],
   "execution_count": null,
   "outputs": []
  },
  {
   "cell_type": "code",
   "metadata": {
    "id": "BYAb9f-ny9a-",
    "pycharm": {
     "is_executing": true
    }
   },
   "source": [
    ""
   ],
   "execution_count": null,
   "outputs": []
  }
 ]
}