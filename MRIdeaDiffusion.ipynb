{
 "nbformat": 4,
 "nbformat_minor": 0,
 "metadata": {
  "accelerator": "GPU",
  "colab": {
   "name": "MRIdeaDiffusion.ipynb",
   "provenance": [],
   "collapsed_sections": []
  },
  "kernelspec": {
   "name": "python3",
   "language": "python",
   "display_name": "Python 3"
  },
  "language_info": {
   "name": "python"
  },
  "widgets": {
   "application/vnd.jupyter.widget-state+json": {
    "3c2354bf9fa7421981451ffc87a01571": {
     "model_module": "@jupyter-widgets/controls",
     "model_name": "HBoxModel",
     "model_module_version": "1.5.0",
     "state": {
      "_view_name": "HBoxView",
      "_dom_classes": [],
      "_model_name": "HBoxModel",
      "_view_module": "@jupyter-widgets/controls",
      "_model_module_version": "1.5.0",
      "_view_count": null,
      "_view_module_version": "1.5.0",
      "box_style": "",
      "layout": "IPY_MODEL_9972796fb23341b2a4928488f049c272",
      "_model_module": "@jupyter-widgets/controls",
      "children": [
       "IPY_MODEL_15b1697c72ff4d48b03cf57e9629bf69",
       "IPY_MODEL_7fec3239d50044b5b761651ca22cf40f",
       "IPY_MODEL_5bea6111eff5454999eb841fa964a0fc"
      ]
     }
    },
    "9972796fb23341b2a4928488f049c272": {
     "model_module": "@jupyter-widgets/base",
     "model_name": "LayoutModel",
     "model_module_version": "1.2.0",
     "state": {
      "_view_name": "LayoutView",
      "grid_template_rows": null,
      "right": null,
      "justify_content": null,
      "_view_module": "@jupyter-widgets/base",
      "overflow": null,
      "_model_module_version": "1.2.0",
      "_view_count": null,
      "flex_flow": null,
      "width": null,
      "min_width": null,
      "border": null,
      "align_items": null,
      "bottom": null,
      "_model_module": "@jupyter-widgets/base",
      "top": null,
      "grid_column": null,
      "overflow_y": null,
      "overflow_x": null,
      "grid_auto_flow": null,
      "grid_area": null,
      "grid_template_columns": null,
      "flex": null,
      "_model_name": "LayoutModel",
      "justify_items": null,
      "grid_row": null,
      "max_height": null,
      "align_content": null,
      "visibility": null,
      "align_self": null,
      "height": null,
      "min_height": null,
      "padding": null,
      "grid_auto_rows": null,
      "grid_gap": null,
      "max_width": null,
      "order": null,
      "_view_module_version": "1.2.0",
      "grid_template_areas": null,
      "object_position": null,
      "object_fit": null,
      "grid_auto_columns": null,
      "margin": null,
      "display": null,
      "left": null
     }
    },
    "15b1697c72ff4d48b03cf57e9629bf69": {
     "model_module": "@jupyter-widgets/controls",
     "model_name": "HTMLModel",
     "model_module_version": "1.5.0",
     "state": {
      "_view_name": "HTMLView",
      "style": "IPY_MODEL_0a1d5bc2bac64b62b0ed3484da69439e",
      "_dom_classes": [],
      "description": "",
      "_model_name": "HTMLModel",
      "placeholder": "​",
      "_view_module": "@jupyter-widgets/controls",
      "_model_module_version": "1.5.0",
      "value": "100%",
      "_view_count": null,
      "_view_module_version": "1.5.0",
      "description_tooltip": null,
      "_model_module": "@jupyter-widgets/controls",
      "layout": "IPY_MODEL_59c235ef19d54f05b37e220980cbe9f0"
     }
    },
    "7fec3239d50044b5b761651ca22cf40f": {
     "model_module": "@jupyter-widgets/controls",
     "model_name": "FloatProgressModel",
     "model_module_version": "1.5.0",
     "state": {
      "_view_name": "ProgressView",
      "style": "IPY_MODEL_9d9f07bf5f384c84be2ab3e5d6d23f92",
      "_dom_classes": [],
      "description": "",
      "_model_name": "FloatProgressModel",
      "bar_style": "success",
      "max": 3,
      "_view_module": "@jupyter-widgets/controls",
      "_model_module_version": "1.5.0",
      "value": 3,
      "_view_count": null,
      "_view_module_version": "1.5.0",
      "orientation": "horizontal",
      "min": 0,
      "description_tooltip": null,
      "_model_module": "@jupyter-widgets/controls",
      "layout": "IPY_MODEL_7c3c873bd6664f69a945f2568058daa1"
     }
    },
    "5bea6111eff5454999eb841fa964a0fc": {
     "model_module": "@jupyter-widgets/controls",
     "model_name": "HTMLModel",
     "model_module_version": "1.5.0",
     "state": {
      "_view_name": "HTMLView",
      "style": "IPY_MODEL_1a22c2726cbd480cadb20c43a4d64739",
      "_dom_classes": [],
      "description": "",
      "_model_name": "HTMLModel",
      "placeholder": "​",
      "_view_module": "@jupyter-widgets/controls",
      "_model_module_version": "1.5.0",
      "value": " 3/3 [11:44&lt;00:00, 166.70s/it, imgs trained=300, loss=tensor(0.1714, device=&#x27;cuda:0&#x27;)]",
      "_view_count": null,
      "_view_module_version": "1.5.0",
      "description_tooltip": null,
      "_model_module": "@jupyter-widgets/controls",
      "layout": "IPY_MODEL_80d2829712bb44c3a8a095af45f53cb5"
     }
    },
    "0a1d5bc2bac64b62b0ed3484da69439e": {
     "model_module": "@jupyter-widgets/controls",
     "model_name": "DescriptionStyleModel",
     "model_module_version": "1.5.0",
     "state": {
      "_view_name": "StyleView",
      "_model_name": "DescriptionStyleModel",
      "description_width": "",
      "_view_module": "@jupyter-widgets/base",
      "_model_module_version": "1.5.0",
      "_view_count": null,
      "_view_module_version": "1.2.0",
      "_model_module": "@jupyter-widgets/controls"
     }
    },
    "59c235ef19d54f05b37e220980cbe9f0": {
     "model_module": "@jupyter-widgets/base",
     "model_name": "LayoutModel",
     "model_module_version": "1.2.0",
     "state": {
      "_view_name": "LayoutView",
      "grid_template_rows": null,
      "right": null,
      "justify_content": null,
      "_view_module": "@jupyter-widgets/base",
      "overflow": null,
      "_model_module_version": "1.2.0",
      "_view_count": null,
      "flex_flow": null,
      "width": null,
      "min_width": null,
      "border": null,
      "align_items": null,
      "bottom": null,
      "_model_module": "@jupyter-widgets/base",
      "top": null,
      "grid_column": null,
      "overflow_y": null,
      "overflow_x": null,
      "grid_auto_flow": null,
      "grid_area": null,
      "grid_template_columns": null,
      "flex": null,
      "_model_name": "LayoutModel",
      "justify_items": null,
      "grid_row": null,
      "max_height": null,
      "align_content": null,
      "visibility": null,
      "align_self": null,
      "height": null,
      "min_height": null,
      "padding": null,
      "grid_auto_rows": null,
      "grid_gap": null,
      "max_width": null,
      "order": null,
      "_view_module_version": "1.2.0",
      "grid_template_areas": null,
      "object_position": null,
      "object_fit": null,
      "grid_auto_columns": null,
      "margin": null,
      "display": null,
      "left": null
     }
    },
    "9d9f07bf5f384c84be2ab3e5d6d23f92": {
     "model_module": "@jupyter-widgets/controls",
     "model_name": "ProgressStyleModel",
     "model_module_version": "1.5.0",
     "state": {
      "_view_name": "StyleView",
      "_model_name": "ProgressStyleModel",
      "description_width": "",
      "_view_module": "@jupyter-widgets/base",
      "_model_module_version": "1.5.0",
      "_view_count": null,
      "_view_module_version": "1.2.0",
      "bar_color": null,
      "_model_module": "@jupyter-widgets/controls"
     }
    },
    "7c3c873bd6664f69a945f2568058daa1": {
     "model_module": "@jupyter-widgets/base",
     "model_name": "LayoutModel",
     "model_module_version": "1.2.0",
     "state": {
      "_view_name": "LayoutView",
      "grid_template_rows": null,
      "right": null,
      "justify_content": null,
      "_view_module": "@jupyter-widgets/base",
      "overflow": null,
      "_model_module_version": "1.2.0",
      "_view_count": null,
      "flex_flow": null,
      "width": null,
      "min_width": null,
      "border": null,
      "align_items": null,
      "bottom": null,
      "_model_module": "@jupyter-widgets/base",
      "top": null,
      "grid_column": null,
      "overflow_y": null,
      "overflow_x": null,
      "grid_auto_flow": null,
      "grid_area": null,
      "grid_template_columns": null,
      "flex": null,
      "_model_name": "LayoutModel",
      "justify_items": null,
      "grid_row": null,
      "max_height": null,
      "align_content": null,
      "visibility": null,
      "align_self": null,
      "height": null,
      "min_height": null,
      "padding": null,
      "grid_auto_rows": null,
      "grid_gap": null,
      "max_width": null,
      "order": null,
      "_view_module_version": "1.2.0",
      "grid_template_areas": null,
      "object_position": null,
      "object_fit": null,
      "grid_auto_columns": null,
      "margin": null,
      "display": null,
      "left": null
     }
    },
    "1a22c2726cbd480cadb20c43a4d64739": {
     "model_module": "@jupyter-widgets/controls",
     "model_name": "DescriptionStyleModel",
     "model_module_version": "1.5.0",
     "state": {
      "_view_name": "StyleView",
      "_model_name": "DescriptionStyleModel",
      "description_width": "",
      "_view_module": "@jupyter-widgets/base",
      "_model_module_version": "1.5.0",
      "_view_count": null,
      "_view_module_version": "1.2.0",
      "_model_module": "@jupyter-widgets/controls"
     }
    },
    "80d2829712bb44c3a8a095af45f53cb5": {
     "model_module": "@jupyter-widgets/base",
     "model_name": "LayoutModel",
     "model_module_version": "1.2.0",
     "state": {
      "_view_name": "LayoutView",
      "grid_template_rows": null,
      "right": null,
      "justify_content": null,
      "_view_module": "@jupyter-widgets/base",
      "overflow": null,
      "_model_module_version": "1.2.0",
      "_view_count": null,
      "flex_flow": null,
      "width": null,
      "min_width": null,
      "border": null,
      "align_items": null,
      "bottom": null,
      "_model_module": "@jupyter-widgets/base",
      "top": null,
      "grid_column": null,
      "overflow_y": null,
      "overflow_x": null,
      "grid_auto_flow": null,
      "grid_area": null,
      "grid_template_columns": null,
      "flex": null,
      "_model_name": "LayoutModel",
      "justify_items": null,
      "grid_row": null,
      "max_height": null,
      "align_content": null,
      "visibility": null,
      "align_self": null,
      "height": null,
      "min_height": null,
      "padding": null,
      "grid_auto_rows": null,
      "grid_gap": null,
      "max_width": null,
      "order": null,
      "_view_module_version": "1.2.0",
      "grid_template_areas": null,
      "object_position": null,
      "object_fit": null,
      "grid_auto_columns": null,
      "margin": null,
      "display": null,
      "left": null
     }
    }
   }
  }
 },
 "cells": [
  {
   "cell_type": "code",
   "execution_count": null,
   "outputs": [],
   "source": [
    "import torch.optim as optim\n",
    "import torchvision.utils\n",
    "import matplotlib.pyplot as plt\n",
    "import matplotlib.animation as animation\n",
    "import numpy as np\n",
    "import os\n",
    "import tqdm.auto\n",
    "from random import seed\n",
    "import time\n",
    "import json\n",
    "\n",
    "from models import *\n",
    "import dataset\n",
    "import sampling\n",
    "\n",
    "torch.cuda.empty_cache()"
   ],
   "metadata": {
    "collapsed": false,
    "pycharm": {
     "name": "#%%\n"
    }
   }
  },
  {
   "cell_type": "code",
   "execution_count": null,
   "outputs": [],
   "source": [
    "# from google.colab import drive\n",
    "# drive.mount('/content/drive')\n",
    "# root_dir = \"/content/drive/MyDrive/dissertation data/\"\n",
    "root_dir = \"./\"\n",
    "\n",
    "\n",
    "device = torch.device(\"cuda\" if torch.cuda.is_available() else \"cpu\")\n",
    "seed(1)\n",
    "# print(device)\n"
   ],
   "metadata": {
    "collapsed": false,
    "pycharm": {
     "name": "#%%\n"
    }
   }
  },
  {
   "cell_type": "code",
   "execution_count": null,
   "outputs": [],
   "source": [
    "args = {\n",
    "    'base_channels': 32,\n",
    "    'channel_mults': (1, 2, 4, 8),\n",
    "    'T': 500,\n",
    "    'beta_schedule': 'cosine',\n",
    "    'loss-type': 'l2',\n",
    "    'loss_weight': 'prop-t',  # uniform or prop-t\n",
    "    'sample_distance': 15,\n",
    "    'random_slice': False,\n",
    "    'img_size':(32,32),\n",
    "    'EPOCHS':750,\n",
    "    'Batch_Size':1,\n",
    "    'lr':1e-4,\n",
    "    'weight_decay':0.0,\n",
    "}"
   ],
   "metadata": {
    "collapsed": false,
    "pycharm": {
     "name": "#%%\n"
    }
   }
  },
  {
   "cell_type": "code",
   "execution_count": null,
   "outputs": [],
   "source": [
    "training_dataset = dataset.MRIDataset(root_dir=f'{root_dir}Train/', img_size=args['img_size'],random_slice=args['random_slice'])\n",
    "testing_dataset = dataset.MRIDataset(root_dir=f'{root_dir}Test/', img_size=args['img_size'],random_slice=args['random_slice'])\n",
    "# testing_dataset = MRIDataset(root_dir='/content/drive/MyDrive/dissertation data/Anomalous/',transform=transform)\n",
    "dataset_loader = dataset.cycle(torch.utils.data.DataLoader(training_dataset,\n",
    "                                                   batch_size=args['Batch_Size'], shuffle=True,\n",
    "                                                   num_workers=2))\n",
    "\n",
    "new = next(dataset_loader)\n",
    "\n",
    "# new[\"image\"] = torch.cat((new[\"image\"][:],new[\"image\"][:],new[\"image\"][:]),dim=1)\n",
    "print(new[\"image\"].shape)\n",
    "plt.rcParams['figure.dpi'] = 100\n",
    "plt.grid(False)\n",
    "plt.imshow(\n",
    "    torchvision.utils.make_grid(((new[\"image\"]+1)*127.5).clamp(0,255).to(torch.uint8)).cpu().data.permute(0, 2, 1).contiguous().permute(2, 1, 0),\n",
    "    cmap='gray')\n",
    "# plt.show()\n",
    "plt.pause(0.0001)"
   ],
   "metadata": {
    "collapsed": false,
    "pycharm": {
     "name": "#%%\n"
    }
   }
  },
  {
   "cell_type": "code",
   "execution_count": null,
   "outputs": [],
   "source": [
    "for i in ['./model/',\"./diffusion-videos/\",'./diffusion-training-images/']:\n",
    "    try:\n",
    "        os.makedirs(i)\n",
    "    except OSError:\n",
    "        pass"
   ],
   "metadata": {
    "collapsed": false,
    "pycharm": {
     "name": "#%%\n"
    }
   }
  },
  {
   "cell_type": "code",
   "execution_count": null,
   "outputs": [],
   "source": [
    "unet = UNet(args['base_channels'], channel_mults=args['channel_mults'])\n",
    "\n",
    "\n",
    "betas = get_beta_schedule(args['T'], args['beta_schedule'])\n",
    "\n",
    "diffusion = GaussianDiffusion(unet.to(device), args['img_size'], betas, loss_weight=args['loss_weight'],loss_type=args['loss-type'])\n",
    "\n",
    "\n",
    "# diffusion.load_state_dict(torch.load(f'{root_dir}diff-params-24-11-100epochs',map_location=device))\n",
    "\n",
    "diffusion = diffusion.to(device)\n",
    "\n",
    "optimiser = optim.AdamW(diffusion.parameters(), lr=args['lr'], weight_decay=args['weight_decay'])"
   ],
   "metadata": {
    "collapsed": false,
    "pycharm": {
     "name": "#%%\n"
    }
   }
  },
  {
   "cell_type": "code",
   "execution_count": null,
   "outputs": [],
   "source": [
    "def training_outputs(x):\n",
    "    out = []\n",
    "\n",
    "    if epoch > 0 and epoch % 100 == 0:\n",
    "        fig, ax = plt.subplots()\n",
    "        if epoch % 200 == 0:\n",
    "            out = diffusion.forward_backward(x, True, args['sample_distance'])\n",
    "            imgs = [[ax.imshow(torchvision.utils.make_grid(((x+1)*127.5).clamp(0,255).to(torch.uint8), nrow=rowSize).cpu().data.permute(0, 2,\n",
    "                                                                                                          1).contiguous().permute(\n",
    "                2, 1, 0), animated=True)] for x in out]\n",
    "            # out = out.permute(0,2,3,1)\n",
    "            ani = animation.ArtistAnimation(fig, imgs, interval=50, blit=True,\n",
    "                                            repeat_delay=1000)\n",
    "\n",
    "            ani.save(\n",
    "                f'{root_dir}diffusion-videos/sample-{time.gmtime().tm_mday}-{time.gmtime().tm_mon}-{epoch}epochs.mp4')\n",
    "            out = torch.cat((x[:rowSize, ...].cpu(), out[-1][:rowSize, ...].cpu()))\n",
    "            plt.title(\n",
    "                f'x,forward_backward with video: {root_dir}diffusion-videos/sample-{time.gmtime().tm_mday}-{time.gmtime().tm_mon}-{args[\"EPOCHS\"]}epochs.mp4')\n",
    "        else:\n",
    "            out = torch.cat((x[:rowSize, ...].cpu(),\n",
    "                             diffusion.forward_backward(x, False, args['sample_distance'])[:rowSize, ...].cpu()))\n",
    "            plt.title(f'x,forward_backward-{epoch}epoch')\n",
    "\n",
    "    elif epoch % 25 == 0:\n",
    "        noise = torch.rand_like(x)\n",
    "        t = torch.randint(0, diffusion.num_timesteps, (x.shape[0],), device=x.device)\n",
    "        x_t = diffusion.sample_q(x, t, noise)\n",
    "        temp = diffusion.sample_p(x_t, t)\n",
    "        out = torch.cat((x[:rowSize, ...].cpu(), temp[\"sample\"][:rowSize, ...].cpu(),\n",
    "                         temp[\"pred_x_0\"][:rowSize, ...].cpu()))\n",
    "        plt.title(f'real,sample,prediction x_0-{epoch}epoch')\n",
    "    else:\n",
    "        out = torch.cat((x[:rowSize, ...].cpu(), noisy[:rowSize, ...].cpu(), est[:rowSize, ...].cpu(),\n",
    "                         (est - noisy).square().cpu()[:rowSize, ...]))\n",
    "        plt.title(f'real,noisy,noise prediction,mse-{epoch}epoch')\n",
    "\n",
    "    plt.rcParams['figure.dpi'] = 150\n",
    "    plt.grid(False)\n",
    "    plt.imshow(torchvision.utils.make_grid(((out+1)*127.5).clamp(0,255).to(torch.uint8), nrow=rowSize).cpu().data.permute(0, 2,\n",
    "                                                                                            1).contiguous().permute(\n",
    "        2, 1, 0),\n",
    "        cmap='gray')\n",
    "\n",
    "    plt.savefig(f'./diffusion-training-images/{epoch}-epoch')"
   ],
   "metadata": {
    "collapsed": false,
    "pycharm": {
     "name": "#%%\n"
    }
   }
  },
  {
   "cell_type": "code",
   "execution_count": null,
   "outputs": [],
   "source": [
    "losses = []\n",
    "tqdm_epoch = tqdm.trange(args['EPOCHS'])\n",
    "# dataset loop\n",
    "for epoch in tqdm_epoch:\n",
    "    mean_loss = []\n",
    "    for i in range(100 // args['Batch_Size']):\n",
    "        data = next(dataset_loader)\n",
    "        x = data[\"image\"]\n",
    "        x = x.to(device)\n",
    "        loss, noisy, est = diffusion(x)\n",
    "        optimiser.zero_grad()\n",
    "        loss.backward()\n",
    "        optimiser.step()\n",
    "        mean_loss.append(loss.data.cpu())\n",
    "        tqdm_epoch.set_postfix({\"imgs trained\": (1 + i) * args['Batch_Size'] + epoch * 100, \"loss\": loss.data.cpu() ,'last epoch mean loss': losses[-1] if len(losses)>0 else 0})\n",
    "        if epoch % 5 == 0 and i == 0:\n",
    "            rowSize = min(8,args['Batch_Size'])\n",
    "            training_outputs(x)\n",
    "\n",
    "    losses.append(np.mean(mean_loss))"
   ],
   "metadata": {
    "collapsed": false,
    "pycharm": {
     "name": "#%%\n"
    }
   }
  },
  {
   "cell_type": "code",
   "execution_count": null,
   "outputs": [],
   "source": [
    "try:\n",
    "    os.makedirs(f'./model/diff-params-{time.gmtime().tm_mday}-{time.gmtime().tm_mon}-{args[\"EPOCHS\"]}epochs')\n",
    "except OSError:\n",
    "    pass\n",
    "\n",
    "torch.save(diffusion.state_dict(),f'{root_dir}model/diff-params-{time.gmtime().tm_mday}-{time.gmtime().tm_mon}-{args[\"EPOCHS\"]}epochs/params')\n",
    "\n",
    "\n",
    "with open(f'./model/diff-params-{time.gmtime().tm_mday}-{time.gmtime().tm_mon}-{args[\"EPOCHS\"]}epochs/args.json','w') as file:\n",
    "    json.dump(args,file)\n",
    "\n",
    "# %%\n",
    "sampling.testing(testing_dataset,diffusion, args=args,device=device)"
   ],
   "metadata": {
    "collapsed": false,
    "pycharm": {
     "name": "#%%\n"
    }
   }
  }
 ]
}